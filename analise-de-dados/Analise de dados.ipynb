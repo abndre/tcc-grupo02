{
 "cells": [
  {
   "attachments": {},
   "cell_type": "markdown",
   "metadata": {},
   "source": [
    "# 1. Importando Bibliotecas"
   ]
  },
  {
   "cell_type": "code",
   "execution_count": 10,
   "metadata": {},
   "outputs": [],
   "source": [
    "import pandas as pd\n",
    "import matplotlib.pyplot as plt\n",
    "import glob"
   ]
  },
  {
   "attachments": {},
   "cell_type": "markdown",
   "metadata": {},
   "source": [
    "# 2. Analisando dados dos Influencer"
   ]
  },
  {
   "cell_type": "code",
   "execution_count": 5,
   "metadata": {},
   "outputs": [],
   "source": [
    "path = \"../data/influencer_data/\"\n",
    "\n",
    "csv_files = glob.glob(path + \"/*.csv\")\n",
    "\n",
    "# Read each CSV file into DataFrame\n",
    "# This creates a list of dataframes\n",
    "df_list = (pd.read_csv(file) for file in csv_files)\n",
    "\n",
    "# Concatenate all DataFrames\n",
    "df_influencer   = pd.concat(df_list, ignore_index=True)"
   ]
  },
  {
   "cell_type": "code",
   "execution_count": 12,
   "metadata": {},
   "outputs": [
    {
     "data": {
      "text/html": [
       "<div>\n",
       "<style scoped>\n",
       "    .dataframe tbody tr th:only-of-type {\n",
       "        vertical-align: middle;\n",
       "    }\n",
       "\n",
       "    .dataframe tbody tr th {\n",
       "        vertical-align: top;\n",
       "    }\n",
       "\n",
       "    .dataframe thead th {\n",
       "        text-align: right;\n",
       "    }\n",
       "</style>\n",
       "<table border=\"1\" class=\"dataframe\">\n",
       "  <thead>\n",
       "    <tr style=\"text-align: right;\">\n",
       "      <th></th>\n",
       "      <th>uuid</th>\n",
       "      <th>data_ref</th>\n",
       "      <th>userID</th>\n",
       "      <th>seguidores</th>\n",
       "      <th>twwets</th>\n",
       "    </tr>\n",
       "  </thead>\n",
       "  <tbody>\n",
       "    <tr>\n",
       "      <th>0</th>\n",
       "      <td>9f9f6b1f-153a-4753-9678-0cd895a6bde3</td>\n",
       "      <td>2023-04-19</td>\n",
       "      <td>Cellbit</td>\n",
       "      <td>5976407</td>\n",
       "      <td>3857</td>\n",
       "    </tr>\n",
       "    <tr>\n",
       "      <th>1</th>\n",
       "      <td>ae7571c9-8082-456f-940b-39cd74584da2</td>\n",
       "      <td>2023-04-15</td>\n",
       "      <td>Loiranoob</td>\n",
       "      <td>1755512</td>\n",
       "      <td>106251</td>\n",
       "    </tr>\n",
       "    <tr>\n",
       "      <th>2</th>\n",
       "      <td>c1f8a291-7d21-4634-8c06-fe6053e53ece</td>\n",
       "      <td>2023-04-24</td>\n",
       "      <td>BRKsEDU</td>\n",
       "      <td>1616770</td>\n",
       "      <td>773</td>\n",
       "    </tr>\n",
       "    <tr>\n",
       "      <th>3</th>\n",
       "      <td>34557da7-ce8f-4401-b6b5-e1c3f3287830</td>\n",
       "      <td>2023-04-24</td>\n",
       "      <td>Cellbit</td>\n",
       "      <td>5976487</td>\n",
       "      <td>3858</td>\n",
       "    </tr>\n",
       "    <tr>\n",
       "      <th>4</th>\n",
       "      <td>91015e95-1116-43cd-8be4-4de5efde00ac</td>\n",
       "      <td>2023-04-16</td>\n",
       "      <td>BRKsEDU</td>\n",
       "      <td>1616180</td>\n",
       "      <td>761</td>\n",
       "    </tr>\n",
       "  </tbody>\n",
       "</table>\n",
       "</div>"
      ],
      "text/plain": [
       "                                   uuid    data_ref     userID  seguidores  \\\n",
       "0  9f9f6b1f-153a-4753-9678-0cd895a6bde3  2023-04-19    Cellbit     5976407   \n",
       "1  ae7571c9-8082-456f-940b-39cd74584da2  2023-04-15  Loiranoob     1755512   \n",
       "2  c1f8a291-7d21-4634-8c06-fe6053e53ece  2023-04-24    BRKsEDU     1616770   \n",
       "3  34557da7-ce8f-4401-b6b5-e1c3f3287830  2023-04-24    Cellbit     5976487   \n",
       "4  91015e95-1116-43cd-8be4-4de5efde00ac  2023-04-16    BRKsEDU     1616180   \n",
       "\n",
       "   twwets  \n",
       "0    3857  \n",
       "1  106251  \n",
       "2     773  \n",
       "3    3858  \n",
       "4     761  "
      ]
     },
     "execution_count": 12,
     "metadata": {},
     "output_type": "execute_result"
    }
   ],
   "source": [
    "df_influencer.head()"
   ]
  },
  {
   "cell_type": "code",
   "execution_count": 8,
   "metadata": {},
   "outputs": [
    {
     "data": {
      "text/plain": [
       "(15, 5)"
      ]
     },
     "execution_count": 8,
     "metadata": {},
     "output_type": "execute_result"
    }
   ],
   "source": [
    "df_influencer.shape"
   ]
  },
  {
   "cell_type": "code",
   "execution_count": 19,
   "metadata": {},
   "outputs": [
    {
     "name": "stdout",
     "output_type": "stream",
     "text": [
      "(15, 5)\n"
     ]
    }
   ],
   "source": [
    "df_distinct = df_influencer.drop_duplicates(subset=['data_ref', 'userID'])\n",
    "print(df_distinct.shape)\n",
    "df_grouped = df_distinct.groupby(['userID', 'data_ref']).agg({'seguidores': 'sum'}).reset_index()"
   ]
  },
  {
   "cell_type": "code",
   "execution_count": 20,
   "metadata": {},
   "outputs": [
    {
     "data": {
      "text/html": [
       "<div>\n",
       "<style scoped>\n",
       "    .dataframe tbody tr th:only-of-type {\n",
       "        vertical-align: middle;\n",
       "    }\n",
       "\n",
       "    .dataframe tbody tr th {\n",
       "        vertical-align: top;\n",
       "    }\n",
       "\n",
       "    .dataframe thead th {\n",
       "        text-align: right;\n",
       "    }\n",
       "</style>\n",
       "<table border=\"1\" class=\"dataframe\">\n",
       "  <thead>\n",
       "    <tr style=\"text-align: right;\">\n",
       "      <th></th>\n",
       "      <th>userID</th>\n",
       "      <th>data_ref</th>\n",
       "      <th>seguidores</th>\n",
       "    </tr>\n",
       "  </thead>\n",
       "  <tbody>\n",
       "    <tr>\n",
       "      <th>0</th>\n",
       "      <td>BRKsEDU</td>\n",
       "      <td>2023-04-15</td>\n",
       "      <td>1616225</td>\n",
       "    </tr>\n",
       "    <tr>\n",
       "      <th>1</th>\n",
       "      <td>BRKsEDU</td>\n",
       "      <td>2023-04-16</td>\n",
       "      <td>1616180</td>\n",
       "    </tr>\n",
       "    <tr>\n",
       "      <th>2</th>\n",
       "      <td>BRKsEDU</td>\n",
       "      <td>2023-04-19</td>\n",
       "      <td>1616504</td>\n",
       "    </tr>\n",
       "    <tr>\n",
       "      <th>3</th>\n",
       "      <td>BRKsEDU</td>\n",
       "      <td>2023-04-20</td>\n",
       "      <td>1616502</td>\n",
       "    </tr>\n",
       "    <tr>\n",
       "      <th>4</th>\n",
       "      <td>BRKsEDU</td>\n",
       "      <td>2023-04-24</td>\n",
       "      <td>1616770</td>\n",
       "    </tr>\n",
       "    <tr>\n",
       "      <th>5</th>\n",
       "      <td>Cellbit</td>\n",
       "      <td>2023-04-15</td>\n",
       "      <td>5976402</td>\n",
       "    </tr>\n",
       "    <tr>\n",
       "      <th>6</th>\n",
       "      <td>Cellbit</td>\n",
       "      <td>2023-04-16</td>\n",
       "      <td>5976471</td>\n",
       "    </tr>\n",
       "    <tr>\n",
       "      <th>7</th>\n",
       "      <td>Cellbit</td>\n",
       "      <td>2023-04-19</td>\n",
       "      <td>5976407</td>\n",
       "    </tr>\n",
       "    <tr>\n",
       "      <th>8</th>\n",
       "      <td>Cellbit</td>\n",
       "      <td>2023-04-20</td>\n",
       "      <td>5976366</td>\n",
       "    </tr>\n",
       "    <tr>\n",
       "      <th>9</th>\n",
       "      <td>Cellbit</td>\n",
       "      <td>2023-04-24</td>\n",
       "      <td>5976487</td>\n",
       "    </tr>\n",
       "    <tr>\n",
       "      <th>10</th>\n",
       "      <td>Loiranoob</td>\n",
       "      <td>2023-04-15</td>\n",
       "      <td>1755512</td>\n",
       "    </tr>\n",
       "    <tr>\n",
       "      <th>11</th>\n",
       "      <td>Loiranoob</td>\n",
       "      <td>2023-04-16</td>\n",
       "      <td>1755568</td>\n",
       "    </tr>\n",
       "    <tr>\n",
       "      <th>12</th>\n",
       "      <td>Loiranoob</td>\n",
       "      <td>2023-04-19</td>\n",
       "      <td>1755425</td>\n",
       "    </tr>\n",
       "    <tr>\n",
       "      <th>13</th>\n",
       "      <td>Loiranoob</td>\n",
       "      <td>2023-04-20</td>\n",
       "      <td>1755387</td>\n",
       "    </tr>\n",
       "    <tr>\n",
       "      <th>14</th>\n",
       "      <td>Loiranoob</td>\n",
       "      <td>2023-04-24</td>\n",
       "      <td>1755142</td>\n",
       "    </tr>\n",
       "  </tbody>\n",
       "</table>\n",
       "</div>"
      ],
      "text/plain": [
       "       userID    data_ref  seguidores\n",
       "0     BRKsEDU  2023-04-15     1616225\n",
       "1     BRKsEDU  2023-04-16     1616180\n",
       "2     BRKsEDU  2023-04-19     1616504\n",
       "3     BRKsEDU  2023-04-20     1616502\n",
       "4     BRKsEDU  2023-04-24     1616770\n",
       "5     Cellbit  2023-04-15     5976402\n",
       "6     Cellbit  2023-04-16     5976471\n",
       "7     Cellbit  2023-04-19     5976407\n",
       "8     Cellbit  2023-04-20     5976366\n",
       "9     Cellbit  2023-04-24     5976487\n",
       "10  Loiranoob  2023-04-15     1755512\n",
       "11  Loiranoob  2023-04-16     1755568\n",
       "12  Loiranoob  2023-04-19     1755425\n",
       "13  Loiranoob  2023-04-20     1755387\n",
       "14  Loiranoob  2023-04-24     1755142"
      ]
     },
     "execution_count": 20,
     "metadata": {},
     "output_type": "execute_result"
    }
   ],
   "source": [
    "df_grouped"
   ]
  },
  {
   "cell_type": "code",
   "execution_count": 18,
   "metadata": {},
   "outputs": [
    {
     "data": {
      "image/png": "[encoded data removed]",
      "text/plain": [
       "<Figure size 432x288 with 1 Axes>"
      ]
     },
     "metadata": {
      "needs_background": "light"
     },
     "output_type": "display_data"
    }
   ],
   "source": [
    "for user in df_grouped['userID'].unique():\n",
    "    df_user = df_grouped[df_grouped['userID'] == user]\n",
    "    plt.plot(df_user['data_ref'], df_user['seguidores'], label=user)\n",
    "\n",
    "plt.legend()\n",
    "plt.show()"
   ]
  },
  {
   "cell_type": "markdown",
   "metadata": {},
   "source": []
  },
  {
   "attachments": {},
   "cell_type": "markdown",
   "metadata": {},
   "source": [
    "## No curto Prazo a quantidade de Seguidores se mantem constante."
   ]
  },
  {
   "cell_type": "markdown",
   "metadata": {},
   "source": []
  }
 ],
 "metadata": {
  "kernelspec": {
   "display_name": "dev",
   "language": "python",
   "name": "python3"
  },
  "language_info": {
   "codemirror_mode": {
    "name": "ipython",
    "version": 3
   },
   "file_extension": ".py",
   "mimetype": "text/x-python",
   "name": "python",
   "nbconvert_exporter": "python",
   "pygments_lexer": "ipython3",
   "version": "3.10.4"
  },
  "orig_nbformat": 4
 },
 "nbformat": 4,
 "nbformat_minor": 2
}
