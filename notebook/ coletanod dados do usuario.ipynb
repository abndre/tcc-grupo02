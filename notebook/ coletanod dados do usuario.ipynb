{
 "cells": [
  {
   "cell_type": "code",
   "execution_count": 1,
   "id": "4d41e622",
   "metadata": {},
   "outputs": [],
   "source": [
    "# Importing the libraries\n",
    "import configparser\n",
    "import tweepy\n",
    "import pandas as pd\n",
    "\n",
    "# Read the config file\n",
    "config = configparser.ConfigParser()\n",
    "config.read('../config.ini_local')\n",
    "\n",
    "# Read the values\n",
    "api_key = config['twitter']['api_key']\n",
    "api_key_secret = config['twitter']['api_key_secret']\n",
    "access_token = config['twitter']['access_token']\n",
    "access_token_secret = config['twitter']['access_token_secret']"
   ]
  },
  {
   "cell_type": "markdown",
   "id": "5fc3339d",
   "metadata": {},
   "source": [
    "# Coletando dados da conta do usuario"
   ]
  },
  {
   "cell_type": "code",
   "execution_count": 2,
   "id": "7b23d612",
   "metadata": {},
   "outputs": [
    {
     "name": "stdout",
     "output_type": "stream",
     "text": [
      "O usuário Casimiro tem 4065008 seguidores.\n",
      "O usuário Casimiro publicou 41705 tweets.\n"
     ]
    }
   ],
   "source": [
    "# Authenticate\n",
    "auth = tweepy.OAuth1UserHandler(\n",
    "   api_key, api_key_secret, access_token, access_token_secret\n",
    ")\n",
    "\n",
    "api = tweepy.API(auth)\n",
    "    \n",
    "user_name = \"Casimiro\"\n",
    "\n",
    "# Obter informações do usuário\n",
    "user = api.get_user(screen_name=user_name)\n",
    "\n",
    "# Obter a quantidade de seguidores do usuário\n",
    "followers_count = user.followers_count\n",
    "\n",
    "tweets_count = user.statuses_count\n",
    "\n",
    "# Imprimir a quantidade de seguidores do usuário\n",
    "print(\"O usuário {} tem {} seguidores.\".format(user_name, followers_count))\n",
    "\n",
    "print(\"O usuário {} publicou {} tweets.\".format(user_name, tweets_count))"
   ]
  },
  {
   "cell_type": "markdown",
   "id": "171b9b64",
   "metadata": {},
   "source": [
    "# Coletando dados dos tweetes do usuario"
   ]
  },
  {
   "cell_type": "code",
   "execution_count": 3,
   "id": "0333c927",
   "metadata": {},
   "outputs": [
    {
     "name": "stdout",
     "output_type": "stream",
     "text": [
      "ID: 1640787322147840001\n",
      "2023-03-28 18:45:56+00:00\n",
      "@Santoxicofc Mkkkkkkkkkk tnc\n",
      "2378\n",
      "3\n",
      "1640787322147840001\n",
      "\n",
      "\n",
      "ID: 1640786265057693696\n",
      "2023-03-28 18:41:44+00:00\n",
      "@JornaldosSports hahahahahahahah eu adoro os dois ok\n",
      "777\n",
      "1\n",
      "1640786265057693696\n",
      "\n",
      "\n",
      "ID: 1640786188343599105\n",
      "2023-03-28 18:41:26+00:00\n",
      "@munizv_97 É porque tem explicação o que eu falei, não foi algo solto, um xingamento por xingar hahahahaah. Mas entendo teu ponto.\n",
      "148\n",
      "0\n",
      "1640786188343599105\n",
      "\n",
      "\n",
      "ID: 1640785880804630541\n",
      "2023-03-28 18:40:12+00:00\n",
      "@ColunadoCarlos A Play9 é pica, fez uma transmissão muito boa diante do curto prazo que tinha pra fazer. Estarei analisando sua proposta em breve retorno\n",
      "2630\n",
      "6\n",
      "1640785880804630541\n",
      "\n",
      "\n",
      "ID: 1640785610951540736\n",
      "2023-03-28 18:39:08+00:00\n",
      "@021__Mauricio Tome aqui suas migalhas de atenção 🤲🏻\n",
      "457\n",
      "1\n",
      "1640785610951540736\n",
      "\n",
      "\n",
      "ID: 1640785051846582282\n",
      "2023-03-28 18:36:55+00:00\n",
      "@Fabioo_sca Hahahahahahahah sim\n",
      "199\n",
      "1\n",
      "1640785051846582282\n",
      "\n",
      "\n",
      "ID: 1640784969755942913\n",
      "2023-03-28 18:36:35+00:00\n",
      "@netonobrepb Que resposta é essa paizao\n",
      "512\n",
      "4\n",
      "1640784969755942913\n",
      "\n",
      "\n",
      "ID: 1640784550841450496\n",
      "2023-03-28 18:34:55+00:00\n",
      "@sccpnathanx @centralcaze Facebook é foda paizão, só virou rede social de maluco. Mas pra nicho é mt bom. Comprar camisa de time, comprar colecionável… É coisa fina\n",
      "545\n",
      "2\n",
      "1640784550841450496\n",
      "\n",
      "\n",
      "ID: 1640784283072872449\n",
      "2023-03-28 18:33:52+00:00\n",
      "@renlipe @centralcaze Papo reto\n",
      "61\n",
      "0\n",
      "1640784283072872449\n",
      "\n",
      "\n",
      "ID: 1640784251221315584\n",
      "2023-03-28 18:33:44+00:00\n",
      "@danielssz30 @centralcaze Não estou menos gordo, só menos engraçado\n",
      "32\n",
      "0\n",
      "1640784251221315584\n",
      "\n",
      "\n"
     ]
    }
   ],
   "source": [
    "userID='Casimiro'\n",
    "\n",
    "tweets = api.user_timeline(screen_name=userID, \n",
    "                           # 200 is the maximum allowed count\n",
    "                           count=200,\n",
    "                           include_rts = False,\n",
    "                           # Necessary to keep full_text \n",
    "                           # otherwise only the first 140 words are extracted\n",
    "                           tweet_mode = 'extended'\n",
    "                           )\n",
    "\n",
    "for info in tweets[:10]:\n",
    "    print(\"ID: {}\".format(info.id))\n",
    "    print(info.created_at)\n",
    "    print(info.full_text)\n",
    "    print(info.favorite_count)\n",
    "    print(info.retweet_count)\n",
    "    print(info.id)\n",
    "    #print(info)\n",
    "    print(\"\\n\")"
   ]
  },
  {
   "cell_type": "markdown",
   "id": "cb5bce02",
   "metadata": {},
   "source": [
    "# Coletando dados de uma publicacao\n",
    "\n",
    "### isso da mais trabalho devido a limitacao da API gratuita, e nao se pode fazer muitas requisicoes em sequencia"
   ]
  },
  {
   "cell_type": "code",
   "execution_count": 4,
   "id": "747a7afa",
   "metadata": {},
   "outputs": [],
   "source": [
    "import time \n",
    "\n",
    "post_id = 1640784251221315584 # coletado acima\n",
    "\n",
    "# Coletar a publicação\n",
    "post = api.get_status(post_id)\n",
    "\n",
    "# Fazer uma busca por tweets que sejam respostas à publicação\n",
    "replies = tweepy.Cursor(api.search_tweets, q=\"to:{}\".format(post.author.screen_name),\n",
    "                        since_id=post.id, tweet_mode=\"extended\").items()"
   ]
  },
  {
   "cell_type": "code",
   "execution_count": 5,
   "id": "af1600fc",
   "metadata": {},
   "outputs": [],
   "source": [
    "# replies contem o objeto das respostas e iremos eterar sobre ele"
   ]
  },
  {
   "cell_type": "code",
   "execution_count": 6,
   "id": "9086294c",
   "metadata": {},
   "outputs": [
    {
     "name": "stdout",
     "output_type": "stream",
     "text": [
      "@Casimiro @danielssz30 @centralcaze Perdeu a essência\n",
      "@Casimiro @centralcaze Pós Copa e casamento trouxeram mais seriedade pra esse homem tão ABIBOLADO das ideia\n"
     ]
    }
   ],
   "source": [
    "# Iterar sobre os tweets e imprimir o texto de cada um\n",
    "lista_replies = []\n",
    "for tweet in replies:\n",
    "    if hasattr(tweet, \"in_reply_to_status_id_str\"):\n",
    "        if tweet.in_reply_to_status_id_str == post.id_str:\n",
    "            print(tweet.full_text)\n",
    "            lista_replies.append(tweet)"
   ]
  },
  {
   "cell_type": "code",
   "execution_count": 7,
   "id": "17747545",
   "metadata": {},
   "outputs": [
    {
     "data": {
      "text/plain": [
       "2"
      ]
     },
     "execution_count": 7,
     "metadata": {},
     "output_type": "execute_result"
    }
   ],
   "source": [
    "len(lista_replies)"
   ]
  },
  {
   "cell_type": "code",
   "execution_count": 9,
   "id": "881b481e",
   "metadata": {},
   "outputs": [],
   "source": [
    "#nao houve muito repost neste post, mas ate ai tudo bem"
   ]
  },
  {
   "cell_type": "code",
   "execution_count": null,
   "id": "fd3a1a31",
   "metadata": {},
   "outputs": [],
   "source": []
  }
 ],
 "metadata": {
  "kernelspec": {
   "display_name": "Python 3 (ipykernel)",
   "language": "python",
   "name": "python3"
  },
  "language_info": {
   "codemirror_mode": {
    "name": "ipython",
    "version": 3
   },
   "file_extension": ".py",
   "mimetype": "text/x-python",
   "name": "python",
   "nbconvert_exporter": "python",
   "pygments_lexer": "ipython3",
   "version": "3.10.4"
  }
 },
 "nbformat": 4,
 "nbformat_minor": 5
}
