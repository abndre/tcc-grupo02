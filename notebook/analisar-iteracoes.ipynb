{
 "cells": [
  {
   "cell_type": "code",
   "execution_count": 8,
   "metadata": {},
   "outputs": [],
   "source": [
    "# Import libraries\n",
    "import glob\n",
    "import pandas as pd\n",
    "import re"
   ]
  },
  {
   "cell_type": "code",
   "execution_count": 26,
   "metadata": {},
   "outputs": [],
   "source": [
    "path = \"../data/tweet_iteracoes/\"\n",
    "match = r'/tweet_iteracoes/(\\d+)_\\d{4}-\\d{2}-\\d{2}'\n",
    "csv_files = glob.glob(path + \"/*.csv\")\n",
    "\n",
    "# Read each CSV file into DataFrame\n",
    "# This creates a list of dataframes\n",
    "df_list = (pd.read_csv(file).assign(post_id=re.search(r'/tweet_iteracoes/(\\d+)_\\d{4}-\\d{2}-\\d{2}', file).group(1)) for file in csv_files)\n",
    "\n",
    "# Concatenate all DataFrames\n",
    "df_tweets   = pd.concat(df_list, ignore_index=True)"
   ]
  },
  {
   "cell_type": "code",
   "execution_count": 27,
   "metadata": {},
   "outputs": [
    {
     "data": {
      "text/html": [
       "<div>\n",
       "<style scoped>\n",
       "    .dataframe tbody tr th:only-of-type {\n",
       "        vertical-align: middle;\n",
       "    }\n",
       "\n",
       "    .dataframe tbody tr th {\n",
       "        vertical-align: top;\n",
       "    }\n",
       "\n",
       "    .dataframe thead th {\n",
       "        text-align: right;\n",
       "    }\n",
       "</style>\n",
       "<table border=\"1\" class=\"dataframe\">\n",
       "  <thead>\n",
       "    <tr style=\"text-align: right;\">\n",
       "      <th></th>\n",
       "      <th>full_text</th>\n",
       "      <th>created_at</th>\n",
       "      <th>id</th>\n",
       "      <th>post_id</th>\n",
       "    </tr>\n",
       "  </thead>\n",
       "  <tbody>\n",
       "    <tr>\n",
       "      <th>0</th>\n",
       "      <td>@LoiraNoob Maravilhosas ❤️\\nQuando eu tive jun...</td>\n",
       "      <td>2023-04-09 15:56:19+00:00</td>\n",
       "      <td>1645093289551331332</td>\n",
       "      <td>1643361688639471617</td>\n",
       "    </tr>\n",
       "    <tr>\n",
       "      <th>1</th>\n",
       "      <td>@BRKsEDU Vi assim q saiu, excelente vídeo edu,...</td>\n",
       "      <td>2023-04-07 19:30:27+00:00</td>\n",
       "      <td>1644422403693375506</td>\n",
       "      <td>1644096545598455812</td>\n",
       "    </tr>\n",
       "    <tr>\n",
       "      <th>2</th>\n",
       "      <td>@BRKsEDU Curtindo muito esses seus vídeos dos ...</td>\n",
       "      <td>2023-04-07 01:38:58+00:00</td>\n",
       "      <td>1644152755777417217</td>\n",
       "      <td>1644096545598455812</td>\n",
       "    </tr>\n",
       "    <tr>\n",
       "      <th>3</th>\n",
       "      <td>@BRKsEDU Edu no dia 04/04 fui vítima de um gol...</td>\n",
       "      <td>2023-04-06 22:30:07+00:00</td>\n",
       "      <td>1644105231456673795</td>\n",
       "      <td>1644096545598455812</td>\n",
       "    </tr>\n",
       "    <tr>\n",
       "      <th>4</th>\n",
       "      <td>@BRKsEDU Compra pra mim,eu sou pobre e a taxa ...</td>\n",
       "      <td>2023-04-06 22:21:01+00:00</td>\n",
       "      <td>1644102941941309441</td>\n",
       "      <td>1644096545598455812</td>\n",
       "    </tr>\n",
       "    <tr>\n",
       "      <th>...</th>\n",
       "      <td>...</td>\n",
       "      <td>...</td>\n",
       "      <td>...</td>\n",
       "      <td>...</td>\n",
       "    </tr>\n",
       "    <tr>\n",
       "      <th>283</th>\n",
       "      <td>@LoiraNoob Au au kkkkkkkkk boraaaaa</td>\n",
       "      <td>2023-04-17 21:43:54+00:00</td>\n",
       "      <td>1648079864560250882</td>\n",
       "      <td>1648079298518036481</td>\n",
       "    </tr>\n",
       "    <tr>\n",
       "      <th>284</th>\n",
       "      <td>@LoiraNoob Au auuuu</td>\n",
       "      <td>2023-04-17 21:43:48+00:00</td>\n",
       "      <td>1648079842296864768</td>\n",
       "      <td>1648079298518036481</td>\n",
       "    </tr>\n",
       "    <tr>\n",
       "      <th>285</th>\n",
       "      <td>@LoiraNoob MEU DEEEEUS</td>\n",
       "      <td>2023-04-17 21:43:48+00:00</td>\n",
       "      <td>1648079841122480132</td>\n",
       "      <td>1648079298518036481</td>\n",
       "    </tr>\n",
       "    <tr>\n",
       "      <th>286</th>\n",
       "      <td>@LoiraNoob Au au, pra vc tb</td>\n",
       "      <td>2023-04-17 21:43:47+00:00</td>\n",
       "      <td>1648079837599236097</td>\n",
       "      <td>1648079298518036481</td>\n",
       "    </tr>\n",
       "    <tr>\n",
       "      <th>287</th>\n",
       "      <td>@LoiraNoob \"de dinheirow money eu nao preciso\"</td>\n",
       "      <td>2023-04-17 21:42:50+00:00</td>\n",
       "      <td>1648079595864727553</td>\n",
       "      <td>1648079298518036481</td>\n",
       "    </tr>\n",
       "  </tbody>\n",
       "</table>\n",
       "<p>288 rows × 4 columns</p>\n",
       "</div>"
      ],
      "text/plain": [
       "                                             full_text  \\\n",
       "0    @LoiraNoob Maravilhosas ❤️\\nQuando eu tive jun...   \n",
       "1    @BRKsEDU Vi assim q saiu, excelente vídeo edu,...   \n",
       "2    @BRKsEDU Curtindo muito esses seus vídeos dos ...   \n",
       "3    @BRKsEDU Edu no dia 04/04 fui vítima de um gol...   \n",
       "4    @BRKsEDU Compra pra mim,eu sou pobre e a taxa ...   \n",
       "..                                                 ...   \n",
       "283                @LoiraNoob Au au kkkkkkkkk boraaaaa   \n",
       "284                                @LoiraNoob Au auuuu   \n",
       "285                             @LoiraNoob MEU DEEEEUS   \n",
       "286                        @LoiraNoob Au au, pra vc tb   \n",
       "287     @LoiraNoob \"de dinheirow money eu nao preciso\"   \n",
       "\n",
       "                    created_at                   id              post_id  \n",
       "0    2023-04-09 15:56:19+00:00  1645093289551331332  1643361688639471617  \n",
       "1    2023-04-07 19:30:27+00:00  1644422403693375506  1644096545598455812  \n",
       "2    2023-04-07 01:38:58+00:00  1644152755777417217  1644096545598455812  \n",
       "3    2023-04-06 22:30:07+00:00  1644105231456673795  1644096545598455812  \n",
       "4    2023-04-06 22:21:01+00:00  1644102941941309441  1644096545598455812  \n",
       "..                         ...                  ...                  ...  \n",
       "283  2023-04-17 21:43:54+00:00  1648079864560250882  1648079298518036481  \n",
       "284  2023-04-17 21:43:48+00:00  1648079842296864768  1648079298518036481  \n",
       "285  2023-04-17 21:43:48+00:00  1648079841122480132  1648079298518036481  \n",
       "286  2023-04-17 21:43:47+00:00  1648079837599236097  1648079298518036481  \n",
       "287  2023-04-17 21:42:50+00:00  1648079595864727553  1648079298518036481  \n",
       "\n",
       "[288 rows x 4 columns]"
      ]
     },
     "execution_count": 27,
     "metadata": {},
     "output_type": "execute_result"
    }
   ],
   "source": [
    "df_tweets"
   ]
  },
  {
   "cell_type": "code",
   "execution_count": 17,
   "metadata": {},
   "outputs": [
    {
     "data": {
      "text/plain": [
       "'../data/tweet_iteracoes/1648079298518036481_2023-04-25_39928fe6-a122-4fd7-9da4-0b23ebc9389e.csv'"
      ]
     },
     "execution_count": 17,
     "metadata": {},
     "output_type": "execute_result"
    }
   ],
   "source": [
    "str(file)"
   ]
  },
  {
   "cell_type": "code",
   "execution_count": 19,
   "metadata": {},
   "outputs": [
    {
     "data": {
      "text/plain": [
       "<re.Match object; span=(7, 54), match='/tweet_iteracoes/1648079298518036481_2023-04-25'>"
      ]
     },
     "execution_count": 19,
     "metadata": {},
     "output_type": "execute_result"
    }
   ],
   "source": [
    "re.search(match, str(file))"
   ]
  },
  {
   "cell_type": "code",
   "execution_count": 21,
   "metadata": {},
   "outputs": [
    {
     "name": "stdout",
     "output_type": "stream",
     "text": [
      "1648079298518036481\n"
     ]
    }
   ],
   "source": [
    "import re\n",
    "\n",
    "string = '../data/tweet_iteracoes/1648079298518036481_2023-04-25_39928fe6-a122-4fd7-9da4-0b23ebc9389e.csv'\n",
    "\n",
    "match = re.search(r'/tweet_iteracoes/(\\d+)_\\d{4}-\\d{2}-\\d{2}', file)\n",
    "\n",
    "if match:\n",
    "    id = match.group(1)\n",
    "    print(id)\n",
    "else:\n",
    "    print(\"ID não encontrado na string.\")"
   ]
  },
  {
   "cell_type": "code",
   "execution_count": null,
   "metadata": {},
   "outputs": [],
   "source": []
  }
 ],
 "metadata": {
  "kernelspec": {
   "display_name": "dev",
   "language": "python",
   "name": "python3"
  },
  "language_info": {
   "codemirror_mode": {
    "name": "ipython",
    "version": 3
   },
   "file_extension": ".py",
   "mimetype": "text/x-python",
   "name": "python",
   "nbconvert_exporter": "python",
   "pygments_lexer": "ipython3",
   "version": "3.10.4"
  },
  "orig_nbformat": 4
 },
 "nbformat": 4,
 "nbformat_minor": 2
}
