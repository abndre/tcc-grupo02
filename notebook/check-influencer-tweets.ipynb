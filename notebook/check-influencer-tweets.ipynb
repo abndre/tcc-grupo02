{
 "cells": [
  {
   "cell_type": "code",
   "execution_count": 1,
   "metadata": {},
   "outputs": [],
   "source": [
    "# Import libraries\n",
    "import glob\n",
    "import pandas as pd"
   ]
  },
  {
   "cell_type": "code",
   "execution_count": 2,
   "metadata": {},
   "outputs": [],
   "source": [
    "path = \"../data/influencer_tweets/\"\n",
    "\n",
    "csv_files = glob.glob(path + \"/*.csv\")\n",
    "\n",
    "# Read each CSV file into DataFrame\n",
    "# This creates a list of dataframes\n",
    "df_list = (pd.read_csv(file) for file in csv_files)\n",
    "\n",
    "# Concatenate all DataFrames\n",
    "df   = pd.concat(df_list, ignore_index=True)"
   ]
  },
  {
   "cell_type": "code",
   "execution_count": 3,
   "metadata": {},
   "outputs": [
    {
     "data": {
      "text/plain": [
       "(56100, 6)"
      ]
     },
     "execution_count": 3,
     "metadata": {},
     "output_type": "execute_result"
    }
   ],
   "source": [
    "df.shape"
   ]
  },
  {
   "cell_type": "code",
   "execution_count": 4,
   "metadata": {},
   "outputs": [
    {
     "data": {
      "text/html": [
       "<div>\n",
       "<style scoped>\n",
       "    .dataframe tbody tr th:only-of-type {\n",
       "        vertical-align: middle;\n",
       "    }\n",
       "\n",
       "    .dataframe tbody tr th {\n",
       "        vertical-align: top;\n",
       "    }\n",
       "\n",
       "    .dataframe thead th {\n",
       "        text-align: right;\n",
       "    }\n",
       "</style>\n",
       "<table border=\"1\" class=\"dataframe\">\n",
       "  <thead>\n",
       "    <tr style=\"text-align: right;\">\n",
       "      <th></th>\n",
       "      <th>id</th>\n",
       "      <th>userID</th>\n",
       "      <th>created_at</th>\n",
       "      <th>full_text</th>\n",
       "      <th>favorite_count</th>\n",
       "      <th>retweet_count</th>\n",
       "    </tr>\n",
       "  </thead>\n",
       "  <tbody>\n",
       "    <tr>\n",
       "      <th>0</th>\n",
       "      <td>1644820236749635591</td>\n",
       "      <td>BRKsEDU</td>\n",
       "      <td>2023-04-08 21:51:18+00:00</td>\n",
       "      <td>@MarioThael Muito obrigado!!! Quem editou foi ...</td>\n",
       "      <td>4</td>\n",
       "      <td>1</td>\n",
       "    </tr>\n",
       "    <tr>\n",
       "      <th>1</th>\n",
       "      <td>1644800548812587008</td>\n",
       "      <td>BRKsEDU</td>\n",
       "      <td>2023-04-08 20:33:04+00:00</td>\n",
       "      <td>@V_JuniorR Valeu</td>\n",
       "      <td>1</td>\n",
       "      <td>0</td>\n",
       "    </tr>\n",
       "    <tr>\n",
       "      <th>2</th>\n",
       "      <td>1644800516403126274</td>\n",
       "      <td>BRKsEDU</td>\n",
       "      <td>2023-04-08 20:32:56+00:00</td>\n",
       "      <td>@vinossauro Sim e sim 😀</td>\n",
       "      <td>3</td>\n",
       "      <td>0</td>\n",
       "    </tr>\n",
       "    <tr>\n",
       "      <th>3</th>\n",
       "      <td>1644800453090091011</td>\n",
       "      <td>BRKsEDU</td>\n",
       "      <td>2023-04-08 20:32:41+00:00</td>\n",
       "      <td>@vsouzaduart Muito obrigado!!!</td>\n",
       "      <td>1</td>\n",
       "      <td>0</td>\n",
       "    </tr>\n",
       "    <tr>\n",
       "      <th>4</th>\n",
       "      <td>1644789241619120133</td>\n",
       "      <td>BRKsEDU</td>\n",
       "      <td>2023-04-08 19:48:08+00:00</td>\n",
       "      <td>Acabei de publicar no canal minha crítica ao f...</td>\n",
       "      <td>751</td>\n",
       "      <td>21</td>\n",
       "    </tr>\n",
       "  </tbody>\n",
       "</table>\n",
       "</div>"
      ],
      "text/plain": [
       "                    id   userID                 created_at  \\\n",
       "0  1644820236749635591  BRKsEDU  2023-04-08 21:51:18+00:00   \n",
       "1  1644800548812587008  BRKsEDU  2023-04-08 20:33:04+00:00   \n",
       "2  1644800516403126274  BRKsEDU  2023-04-08 20:32:56+00:00   \n",
       "3  1644800453090091011  BRKsEDU  2023-04-08 20:32:41+00:00   \n",
       "4  1644789241619120133  BRKsEDU  2023-04-08 19:48:08+00:00   \n",
       "\n",
       "                                           full_text  favorite_count  \\\n",
       "0  @MarioThael Muito obrigado!!! Quem editou foi ...               4   \n",
       "1                                   @V_JuniorR Valeu               1   \n",
       "2                            @vinossauro Sim e sim 😀               3   \n",
       "3                     @vsouzaduart Muito obrigado!!!               1   \n",
       "4  Acabei de publicar no canal minha crítica ao f...             751   \n",
       "\n",
       "   retweet_count  \n",
       "0              1  \n",
       "1              0  \n",
       "2              0  \n",
       "3              0  \n",
       "4             21  "
      ]
     },
     "execution_count": 4,
     "metadata": {},
     "output_type": "execute_result"
    }
   ],
   "source": [
    "df.head()"
   ]
  },
  {
   "cell_type": "code",
   "execution_count": null,
   "metadata": {},
   "outputs": [],
   "source": []
  }
 ],
 "metadata": {
  "kernelspec": {
   "display_name": "dev",
   "language": "python",
   "name": "python3"
  },
  "language_info": {
   "codemirror_mode": {
    "name": "ipython",
    "version": 3
   },
   "file_extension": ".py",
   "mimetype": "text/x-python",
   "name": "python",
   "nbconvert_exporter": "python",
   "pygments_lexer": "ipython3",
   "version": "3.10.4"
  },
  "orig_nbformat": 4
 },
 "nbformat": 4,
 "nbformat_minor": 2
}
