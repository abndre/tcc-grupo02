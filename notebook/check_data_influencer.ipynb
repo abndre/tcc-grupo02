{
 "cells": [
  {
   "cell_type": "code",
   "execution_count": 3,
   "metadata": {},
   "outputs": [],
   "source": [
    "# Import libraries\n",
    "import glob\n",
    "import pandas as pd"
   ]
  },
  {
   "cell_type": "code",
   "execution_count": 4,
   "metadata": {},
   "outputs": [],
   "source": [
    "path = \"../data/influencer_data/\"\n",
    "\n",
    "csv_files = glob.glob(path + \"/*.csv\")\n",
    "\n",
    "# Read each CSV file into DataFrame\n",
    "# This creates a list of dataframes\n",
    "df_list = (pd.read_csv(file) for file in csv_files)\n",
    "\n",
    "# Concatenate all DataFrames\n",
    "df   = pd.concat(df_list, ignore_index=True)"
   ]
  },
  {
   "cell_type": "code",
   "execution_count": 5,
   "metadata": {},
   "outputs": [
    {
     "data": {
      "text/plain": [
       "(10, 6)"
      ]
     },
     "execution_count": 5,
     "metadata": {},
     "output_type": "execute_result"
    }
   ],
   "source": [
    "df.shape"
   ]
  },
  {
   "cell_type": "code",
   "execution_count": 6,
   "metadata": {},
   "outputs": [
    {
     "data": {
      "text/html": [
       "<div>\n",
       "<style scoped>\n",
       "    .dataframe tbody tr th:only-of-type {\n",
       "        vertical-align: middle;\n",
       "    }\n",
       "\n",
       "    .dataframe tbody tr th {\n",
       "        vertical-align: top;\n",
       "    }\n",
       "\n",
       "    .dataframe thead th {\n",
       "        text-align: right;\n",
       "    }\n",
       "</style>\n",
       "<table border=\"1\" class=\"dataframe\">\n",
       "  <thead>\n",
       "    <tr style=\"text-align: right;\">\n",
       "      <th></th>\n",
       "      <th>Unnamed: 0</th>\n",
       "      <th>uuid</th>\n",
       "      <th>data_ref</th>\n",
       "      <th>userID</th>\n",
       "      <th>seguidores</th>\n",
       "      <th>twwets</th>\n",
       "    </tr>\n",
       "  </thead>\n",
       "  <tbody>\n",
       "    <tr>\n",
       "      <th>0</th>\n",
       "      <td>0</td>\n",
       "      <td>7e4be8f4-0138-4d96-8bc8-db671afcb3c5</td>\n",
       "      <td>2023-04-15</td>\n",
       "      <td>Loiranoob</td>\n",
       "      <td>1755512</td>\n",
       "      <td>106251</td>\n",
       "    </tr>\n",
       "    <tr>\n",
       "      <th>1</th>\n",
       "      <td>0</td>\n",
       "      <td>e3470947-88ec-4ed1-82c7-eab568d6dd17</td>\n",
       "      <td>2023-04-15</td>\n",
       "      <td>Cellbit</td>\n",
       "      <td>5976409</td>\n",
       "      <td>3857</td>\n",
       "    </tr>\n",
       "    <tr>\n",
       "      <th>2</th>\n",
       "      <td>0</td>\n",
       "      <td>d231ecfd-bd44-48c9-a5af-5e3f45e75c5f</td>\n",
       "      <td>2023-04-15</td>\n",
       "      <td>BRKsEDU</td>\n",
       "      <td>1616225</td>\n",
       "      <td>761</td>\n",
       "    </tr>\n",
       "    <tr>\n",
       "      <th>3</th>\n",
       "      <td>0</td>\n",
       "      <td>d0a36dd6-0335-4213-8090-0e37ce1b9d53</td>\n",
       "      <td>2023-04-15</td>\n",
       "      <td>Loiranoob</td>\n",
       "      <td>1755518</td>\n",
       "      <td>106251</td>\n",
       "    </tr>\n",
       "    <tr>\n",
       "      <th>4</th>\n",
       "      <td>0</td>\n",
       "      <td>5bcc5680-2249-4557-865f-169e00c8c6e0</td>\n",
       "      <td>2023-04-15</td>\n",
       "      <td>Cellbit</td>\n",
       "      <td>5976398</td>\n",
       "      <td>3857</td>\n",
       "    </tr>\n",
       "  </tbody>\n",
       "</table>\n",
       "</div>"
      ],
      "text/plain": [
       "   Unnamed: 0                                  uuid    data_ref     userID  \\\n",
       "0           0  7e4be8f4-0138-4d96-8bc8-db671afcb3c5  2023-04-15  Loiranoob   \n",
       "1           0  e3470947-88ec-4ed1-82c7-eab568d6dd17  2023-04-15    Cellbit   \n",
       "2           0  d231ecfd-bd44-48c9-a5af-5e3f45e75c5f  2023-04-15    BRKsEDU   \n",
       "3           0  d0a36dd6-0335-4213-8090-0e37ce1b9d53  2023-04-15  Loiranoob   \n",
       "4           0  5bcc5680-2249-4557-865f-169e00c8c6e0  2023-04-15    Cellbit   \n",
       "\n",
       "   seguidores  twwets  \n",
       "0     1755512  106251  \n",
       "1     5976409    3857  \n",
       "2     1616225     761  \n",
       "3     1755518  106251  \n",
       "4     5976398    3857  "
      ]
     },
     "execution_count": 6,
     "metadata": {},
     "output_type": "execute_result"
    }
   ],
   "source": [
    "df.head()"
   ]
  },
  {
   "cell_type": "code",
   "execution_count": null,
   "metadata": {},
   "outputs": [],
   "source": []
  }
 ],
 "metadata": {
  "kernelspec": {
   "display_name": "dev",
   "language": "python",
   "name": "python3"
  },
  "language_info": {
   "codemirror_mode": {
    "name": "ipython",
    "version": 3
   },
   "file_extension": ".py",
   "mimetype": "text/x-python",
   "name": "python",
   "nbconvert_exporter": "python",
   "pygments_lexer": "ipython3",
   "version": "3.10.4"
  },
  "orig_nbformat": 4
 },
 "nbformat": 4,
 "nbformat_minor": 2
}
