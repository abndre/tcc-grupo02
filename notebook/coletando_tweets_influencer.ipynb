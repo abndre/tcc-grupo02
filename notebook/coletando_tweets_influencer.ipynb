{
 "cells": [
  {
   "cell_type": "code",
   "execution_count": 1,
   "metadata": {},
   "outputs": [],
   "source": [
    "\n",
    "# Importing the libraries\n",
    "import configparser\n",
    "import tweepy\n",
    "import pandas as pd\n",
    "\n",
    "import uuid\n",
    "from datetime import datetime\n",
    "data_ref=datetime.today().strftime(\"%Y-%m-%d\")"
   ]
  },
  {
   "cell_type": "code",
   "execution_count": 2,
   "metadata": {},
   "outputs": [],
   "source": [
    "# Read the config file\n",
    "config = configparser.ConfigParser()\n",
    "config.read('../config.ini_local')\n",
    "\n",
    "# Read the values\n",
    "api_key = config['twitter']['api_key']\n",
    "api_key_secret = config['twitter']['api_key_secret']\n",
    "access_token = config['twitter']['access_token']\n",
    "access_token_secret = config['twitter']['access_token_secret']"
   ]
  },
  {
   "cell_type": "code",
   "execution_count": 3,
   "metadata": {},
   "outputs": [],
   "source": [
    "# Authenticate\n",
    "auth = tweepy.OAuth1UserHandler(\n",
    "   api_key, api_key_secret, access_token, access_token_secret\n",
    ")\n",
    "\n",
    "api = tweepy.API(auth)"
   ]
  },
  {
   "attachments": {},
   "cell_type": "markdown",
   "metadata": {},
   "source": [
    "- Rafael Lange - Cellbit\n",
    "- Benvenuti - BRKsEDU\n",
    "- Malena Nunes - Loiranoob"
   ]
  },
  {
   "cell_type": "markdown",
   "metadata": {},
   "source": []
  },
  {
   "cell_type": "code",
   "execution_count": 4,
   "metadata": {},
   "outputs": [],
   "source": [
    "def save_tweets(lista_df, userID):\n",
    "    df = pd.DataFrame(lista_df)\n",
    "    df.to_csv(f'../data/influencer_tweets/{userID}_{data_ref}_{str(uuid.uuid4())}.csv', index=False) "
   ]
  },
  {
   "cell_type": "code",
   "execution_count": 5,
   "metadata": {},
   "outputs": [],
   "source": [
    "def get_tweets_user(api, userID):\n",
    "    tweets = api.user_timeline(screen_name=userID, \n",
    "                            # 200 is the maximum allowed count\n",
    "                            count=200,\n",
    "                            include_rts = False,\n",
    "                            # Necessary to keep full_text \n",
    "                            # otherwise only the first 140 words are extracted\n",
    "                            tweet_mode = 'extended'\n",
    "                            )\n",
    "\n",
    "    lista_df = []\n",
    "\n",
    "    for info in tweets:\n",
    "        lista_df.append(\n",
    "            {\n",
    "            \"id\":info.id,\n",
    "            'userID': userID,\n",
    "            \"created_at\":info.created_at,\n",
    "            \"full_text\":info.full_text,\n",
    "            \"favorite_count\":info.favorite_count,\n",
    "            \"retweet_count\":info.retweet_count,\n",
    "            }\n",
    "    )\n",
    "    \n",
    "    save_tweets(lista_df=lista_df, userID=userID)"
   ]
  },
  {
   "cell_type": "code",
   "execution_count": 6,
   "metadata": {},
   "outputs": [],
   "source": [
    "def get_user_data(api, userID):\n",
    "    # Obter informações do usuário\n",
    "    user = api.get_user(screen_name=userID)\n",
    "\n",
    "    # Obter a quantidade de seguidores do usuário\n",
    "    followers_count = user.followers_count\n",
    "\n",
    "    tweets_count = user.statuses_count\n",
    "\n",
    "    uui_id = str(uuid.uuid4())\n",
    "\n",
    "    data_influencer = {\n",
    "        'uuid': uui_id,\n",
    "        'data_ref' : data_ref,\n",
    "        'userID': userID,\n",
    "        'seguidores' : followers_count,\n",
    "        'twwets': tweets_count\n",
    "    }\n",
    "\n",
    "    pd.DataFrame([data_influencer]).to_csv(f'../data/influencer_data/{userID}_{data_ref}_{uui_id}.csv', index=False)"
   ]
  },
  {
   "attachments": {},
   "cell_type": "markdown",
   "metadata": {},
   "source": [
    "## Coletando dados dos 3 usuarios"
   ]
  },
  {
   "cell_type": "code",
   "execution_count": 7,
   "metadata": {},
   "outputs": [],
   "source": [
    "from tqdm import tqdm"
   ]
  },
  {
   "cell_type": "code",
   "execution_count": 8,
   "metadata": {},
   "outputs": [
    {
     "name": "stderr",
     "output_type": "stream",
     "text": [
      "100%|██████████| 200/200 [07:19<00:00,  2.20s/it]\n"
     ]
    }
   ],
   "source": [
    "userIDList = [\n",
    "    \"Cellbit\", \"Loiranoob\", \"BRKsEDU\"\n",
    "]\n",
    "\n",
    "for i in tqdm(range(200)):\n",
    "    for user_id in userIDList:\n",
    "        get_tweets_user(api=api, userID=user_id)\n",
    "\n",
    "for user_id in userIDList:\n",
    "    get_user_data(api, user_id)"
   ]
  },
  {
   "cell_type": "code",
   "execution_count": null,
   "metadata": {},
   "outputs": [],
   "source": []
  }
 ],
 "metadata": {
  "kernelspec": {
   "display_name": "dev",
   "language": "python",
   "name": "python3"
  },
  "language_info": {
   "codemirror_mode": {
    "name": "ipython",
    "version": 3
   },
   "file_extension": ".py",
   "mimetype": "text/x-python",
   "name": "python",
   "nbconvert_exporter": "python",
   "pygments_lexer": "ipython3",
   "version": "3.10.4"
  },
  "orig_nbformat": 4
 },
 "nbformat": 4,
 "nbformat_minor": 2
}
