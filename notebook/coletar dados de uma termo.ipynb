{
 "cells": [
  {
   "cell_type": "code",
   "execution_count": 12,
   "id": "a8706da9",
   "metadata": {},
   "outputs": [],
   "source": [
    "# Importing the libraries\n",
    "import configparser\n",
    "import tweepy\n",
    "import pandas as pd\n",
    "\n",
    "# Read the config file\n",
    "config = configparser.ConfigParser()\n",
    "config.read('../config.ini')\n",
    "\n",
    "# Read the values\n",
    "api_key = config['twitter']['api_key']\n",
    "api_key_secret = config['twitter']['api_key_secret']\n",
    "access_token = config['twitter']['access_token']\n",
    "access_token_secret = config['twitter']['access_token_secret']"
   ]
  },
  {
   "cell_type": "code",
   "execution_count": null,
   "id": "8c2ea8fb",
   "metadata": {},
   "outputs": [],
   "source": []
  },
  {
   "cell_type": "code",
   "execution_count": null,
   "id": "4b79c621",
   "metadata": {},
   "outputs": [],
   "source": []
  },
  {
   "cell_type": "code",
   "execution_count": 13,
   "id": "0a764c4c",
   "metadata": {},
   "outputs": [
    {
     "name": "stdout",
     "output_type": "stream",
     "text": [
      "@MGouveia01 Torci sim kkkkkkk mas não torci CONTRA o Brasil, somente a favor de uma seleção africana. Não faço part… https://t.co/T7bSUfW12z 2023-03-29\n",
      "RT @Jozsef_Bozsik: Desde 2018, Tite tornou a seleção brasileira numa mimese mal sucedida do Manchester City. Onde estaria o tal “atraso tát… 2023-03-29\n",
      "@Carlacfc1909 A seleção brasileira me lembra você: gosta de humilhar as pessoas 2023-03-29\n",
      "RT @GaloNaBase: Comissão de Seleção! 🇧🇷🧤\n",
      "\n",
      "👏🐔 Rafael César, treinador de goleiros do Galinho sub-20, foi convocado para integrar a comissão… 2023-03-29\n",
      "RT @Corinthians: 🗣️ Fala, Yuri Alberto! \n",
      "\n",
      "Na semana em que estreou pela seleção brasileira, Yuri Alberto contou como foi o encontro com os… 2023-03-29\n",
      "RT @jorginhomello: A nossa @Fesportesc já tem comando confirmado: o campeão olímpico Paulo André Jukoski da Silva, o Paulão. Ele tem uma lo… 2023-03-29\n",
      "RT @Jozsef_Bozsik: RAIO-X DO DESMONTE (PARTE 1): A SELEÇÃO BRASILEIRA\n",
      "\n",
      "A seleção está em crise de identidade desde o 7 a 1. Com exceção de… 2023-03-29\n",
      "Minha argentina tirou o pé contra o Curaçao, por humildade, se fosse os arrogantes e soberbos da seleção brasileira… https://t.co/QxBxSsfqZr 2023-03-29\n",
      "RT @PELEJA: Quando um jogador da Seleção Brasileira enfrentou a ditadura argentina.\n",
      "\n",
      "Segue o fio… 🧵 https://t.co/HNk0HarGnK 2023-03-29\n",
      "@gerasofazcore @Sariemlappppp @SaoPauloFC @SantosMakonha @SantosFC @VascoTVOficial @VascodaGama @Messi_Flaa… https://t.co/Lbr7QhAiBg 2023-03-29\n"
     ]
    }
   ],
   "source": [
    "# Authenticate\n",
    "auth = tweepy.OAuth1UserHandler(\n",
    "   api_key, api_key_secret, access_token, access_token_secret\n",
    ")\n",
    "\n",
    "api = tweepy.API(auth)\n",
    "\n",
    "# Definir o termo de busca e o número de tweets a serem recuperados\n",
    "search_term = \"selecao brasileira\"\n",
    "num_tweets = 10\n",
    "\n",
    "# Fazer a busca por tweets que contenham o termo de busca\n",
    "tweets = tweepy.Cursor(api.search_tweets, q=search_term, lang=\"pt\").items(num_tweets)\n",
    "\n",
    "# Iterar sobre os tweets e imprimir o texto de cada um\n",
    "for tweet in tweets:\n",
    "    print(tweet.text, tweet.created_at.strftime('%Y-%m-%d'))"
   ]
  },
  {
   "cell_type": "code",
   "execution_count": null,
   "id": "e4ddd6b1",
   "metadata": {},
   "outputs": [],
   "source": []
  }
 ],
 "metadata": {
  "kernelspec": {
   "display_name": "Python 3 (ipykernel)",
   "language": "python",
   "name": "python3"
  },
  "language_info": {
   "codemirror_mode": {
    "name": "ipython",
    "version": 3
   },
   "file_extension": ".py",
   "mimetype": "text/x-python",
   "name": "python",
   "nbconvert_exporter": "python",
   "pygments_lexer": "ipython3",
   "version": "3.10.4"
  }
 },
 "nbformat": 4,
 "nbformat_minor": 5
}
